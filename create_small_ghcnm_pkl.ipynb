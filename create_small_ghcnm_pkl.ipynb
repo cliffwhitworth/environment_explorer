{
 "cells": [
  {
   "cell_type": "markdown",
   "metadata": {},
   "source": [
    "## Create small GHCNM dataframe\n",
    "\n",
    "https://www.ncdc.noaa.gov/ghcnm/v3.php<br />\n",
    "ftp://ftp.ncdc.noaa.gov/pub/data/ghcn/v3/README<br />\n",
    "For Station ID check https://www.wmo.int/cpdb/volume_a_observing_stations/list_stations"
   ]
  },
  {
   "cell_type": "code",
   "execution_count": 1,
   "metadata": {},
   "outputs": [],
   "source": [
    "import pandas as pd\n",
    "import numpy as np\n",
    "import pickle"
   ]
  },
  {
   "cell_type": "code",
   "execution_count": 2,
   "metadata": {},
   "outputs": [],
   "source": [
    "# unpickle temps created with ghcnm.ipynb\n",
    "with open('./ghcnm.tavg.v3.3.0.20170710.qca.dat.pkl', 'rb') as qca_file:\n",
    "    qca_temps = pickle.load(qca_file)"
   ]
  },
  {
   "cell_type": "code",
   "execution_count": 3,
   "metadata": {},
   "outputs": [],
   "source": [
    "# drop observations without all 12 months; read documentation regarding missing values\n",
    "qca_temps.replace(-9999, np.NaN, inplace=True)\n",
    "qca_temps.dropna(inplace=True)\n",
    "\n",
    "# strip whitespace\n",
    "qca_temps = qca_temps.apply(lambda x: x.str.strip() if x.dtype == \"object\" else x)\n",
    "\n",
    "# sort by Country\n",
    "sorted_temps = qca_temps.sort_values('Country', ascending = True)"
   ]
  },
  {
   "cell_type": "code",
   "execution_count": 4,
   "metadata": {},
   "outputs": [],
   "source": [
    "# means grouped by CountryCode and Year \n",
    "mean_temps = sorted_temps.groupby(['CountryCode', 'YEAR'])['VALUE1', 'VALUE2', 'VALUE3', 'VALUE4', 'VALUE5', 'VALUE6', 'VALUE7', 'VALUE8', 'VALUE9', 'VALUE10', 'VALUE11', 'VALUE12'].mean()"
   ]
  },
  {
   "cell_type": "code",
   "execution_count": 5,
   "metadata": {},
   "outputs": [
    {
     "name": "stdout",
     "output_type": "stream",
     "text": [
      "                       VALUE1       VALUE2       VALUE3       VALUE4  \\\n",
      "CountryCode YEAR                                                       \n",
      "101         1853  1193.000000  1023.000000  1193.000000  1653.000000   \n",
      "            1856  1264.333333  1124.333333  1327.666667  1444.333333   \n",
      "            1857   823.500000  1083.500000  1208.500000  1438.500000   \n",
      "            1858   864.500000  1124.500000  1254.500000  1624.500000   \n",
      "            1859   874.666667   954.666667  1141.333333  1648.000000   \n",
      "\n",
      "                       VALUE5       VALUE6       VALUE7       VALUE8  \\\n",
      "CountryCode YEAR                                                       \n",
      "101         1853  1843.000000  2073.000000  2403.000000  2563.000000   \n",
      "            1856  1831.000000  1981.000000  2264.333333  2301.000000   \n",
      "            1857  1598.500000  1953.500000  2283.500000  2338.500000   \n",
      "            1858  1734.500000  2184.500000  2294.500000  2464.500000   \n",
      "            1859  1804.666667  2016.333333  2403.000000  2439.666667   \n",
      "\n",
      "                       VALUE9      VALUE10  VALUE11      VALUE12  \n",
      "CountryCode YEAR                                                  \n",
      "101         1853  2213.000000  1773.000000   1383.0  1093.000000  \n",
      "            1856  2084.333333  1691.000000   1221.0  1131.000000  \n",
      "            1857  2198.500000  1803.500000   1448.5  1053.500000  \n",
      "            1858  2334.500000  1944.500000   1699.5  1194.500000  \n",
      "            1859  2193.000000  1829.666667   1383.0  1066.333333  \n"
     ]
    }
   ],
   "source": [
    "print(mean_temps.head())"
   ]
  },
  {
   "cell_type": "code",
   "execution_count": 6,
   "metadata": {},
   "outputs": [],
   "source": [
    "# Pickle dataset\n",
    "with open('./ghcnm_means.pkl', 'wb') as ghcnm_means_pkl:\n",
    "    pickle.dump(mean_temps, ghcnm_means_pkl, protocol=2)"
   ]
  }
 ],
 "metadata": {
  "kernelspec": {
   "display_name": "Python 3",
   "language": "python",
   "name": "python3"
  },
  "language_info": {
   "codemirror_mode": {
    "name": "ipython",
    "version": 3
   },
   "file_extension": ".py",
   "mimetype": "text/x-python",
   "name": "python",
   "nbconvert_exporter": "python",
   "pygments_lexer": "ipython3",
   "version": "3.6.5"
  }
 },
 "nbformat": 4,
 "nbformat_minor": 2
}
