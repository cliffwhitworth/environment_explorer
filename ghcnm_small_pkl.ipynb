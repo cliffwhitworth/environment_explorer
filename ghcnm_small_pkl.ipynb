{
 "cells": [
  {
   "cell_type": "markdown",
   "metadata": {},
   "source": [
    "## GHCNM with small PKL\n",
    "\n",
    "pkl generated from create_small_ghcnm_pkl.ipynb\n",
    "\n",
    "https://www.ncdc.noaa.gov/ghcnm/v3.php<br />\n",
    "ftp://ftp.ncdc.noaa.gov/pub/data/ghcn/v3/README<br />\n",
    "For Station ID check https://www.wmo.int/cpdb/volume_a_observing_stations/list_stations\n",
    "\n",
    "<p>\n",
    "This notebook is prep work for an ongoing Dash/Plotly interactive project plotting data provided by the following: \n",
    "    <ul>\n",
    "        <li>The Global Historical Climatology Network-Monthly (GHCN-M) temperature dataset</li>\n",
    "    </ul>\n",
    "</p>\n",
    "<p>\n",
    "    Find the project here: \n",
    "</p>"
   ]
  },
  {
   "cell_type": "code",
   "execution_count": 1,
   "metadata": {},
   "outputs": [],
   "source": [
    "import pandas as pd\n",
    "import numpy as np\n",
    "import pickle\n",
    "\n",
    "import matplotlib\n",
    "import matplotlib.pyplot as plt"
   ]
  },
  {
   "cell_type": "code",
   "execution_count": 2,
   "metadata": {},
   "outputs": [],
   "source": [
    "# unpickle temps created with ghcnm.ipynb\n",
    "with open('./ghcnm_means.pkl', 'rb') as qca_file:\n",
    "    qca_temps = pickle.load(qca_file)\n",
    "    \n",
    "qca_temps.reset_index(inplace=True)"
   ]
  },
  {
   "cell_type": "code",
   "execution_count": 3,
   "metadata": {},
   "outputs": [
    {
     "data": {
      "text/plain": [
       "(22839, 14)"
      ]
     },
     "execution_count": 3,
     "metadata": {},
     "output_type": "execute_result"
    }
   ],
   "source": [
    "qca_temps.shape"
   ]
  },
  {
   "cell_type": "code",
   "execution_count": 4,
   "metadata": {},
   "outputs": [
    {
     "name": "stdout",
     "output_type": "stream",
     "text": [
      "<class 'pandas.core.frame.DataFrame'>\n",
      "RangeIndex: 22839 entries, 0 to 22838\n",
      "Data columns (total 14 columns):\n",
      "CountryCode    22839 non-null int64\n",
      "YEAR           22839 non-null int64\n",
      "VALUE1         22839 non-null float64\n",
      "VALUE2         22839 non-null float64\n",
      "VALUE3         22839 non-null float64\n",
      "VALUE4         22839 non-null float64\n",
      "VALUE5         22839 non-null float64\n",
      "VALUE6         22839 non-null float64\n",
      "VALUE7         22839 non-null float64\n",
      "VALUE8         22839 non-null float64\n",
      "VALUE9         22839 non-null float64\n",
      "VALUE10        22839 non-null float64\n",
      "VALUE11        22839 non-null float64\n",
      "VALUE12        22839 non-null float64\n",
      "dtypes: float64(12), int64(2)\n",
      "memory usage: 2.4 MB\n"
     ]
    }
   ],
   "source": [
    "qca_temps.info()"
   ]
  },
  {
   "cell_type": "code",
   "execution_count": 5,
   "metadata": {},
   "outputs": [
    {
     "data": {
      "text/html": [
       "<div>\n",
       "<style scoped>\n",
       "    .dataframe tbody tr th:only-of-type {\n",
       "        vertical-align: middle;\n",
       "    }\n",
       "\n",
       "    .dataframe tbody tr th {\n",
       "        vertical-align: top;\n",
       "    }\n",
       "\n",
       "    .dataframe thead th {\n",
       "        text-align: right;\n",
       "    }\n",
       "</style>\n",
       "<table border=\"1\" class=\"dataframe\">\n",
       "  <thead>\n",
       "    <tr style=\"text-align: right;\">\n",
       "      <th></th>\n",
       "      <th>CountryCode</th>\n",
       "      <th>YEAR</th>\n",
       "      <th>VALUE1</th>\n",
       "      <th>VALUE2</th>\n",
       "      <th>VALUE3</th>\n",
       "      <th>VALUE4</th>\n",
       "      <th>VALUE5</th>\n",
       "      <th>VALUE6</th>\n",
       "      <th>VALUE7</th>\n",
       "      <th>VALUE8</th>\n",
       "      <th>VALUE9</th>\n",
       "      <th>VALUE10</th>\n",
       "      <th>VALUE11</th>\n",
       "      <th>VALUE12</th>\n",
       "    </tr>\n",
       "  </thead>\n",
       "  <tbody>\n",
       "    <tr>\n",
       "      <th>count</th>\n",
       "      <td>22839.0</td>\n",
       "      <td>22839.0</td>\n",
       "      <td>22839.0</td>\n",
       "      <td>22839.0</td>\n",
       "      <td>22839.0</td>\n",
       "      <td>22839.0</td>\n",
       "      <td>22839.0</td>\n",
       "      <td>22839.0</td>\n",
       "      <td>22839.0</td>\n",
       "      <td>22839.0</td>\n",
       "      <td>22839.0</td>\n",
       "      <td>22839.0</td>\n",
       "      <td>22839.0</td>\n",
       "      <td>22839.0</td>\n",
       "    </tr>\n",
       "  </tbody>\n",
       "</table>\n",
       "</div>"
      ],
      "text/plain": [
       "       CountryCode     YEAR   VALUE1   VALUE2   VALUE3   VALUE4   VALUE5  \\\n",
       "count      22839.0  22839.0  22839.0  22839.0  22839.0  22839.0  22839.0   \n",
       "\n",
       "        VALUE6   VALUE7   VALUE8   VALUE9  VALUE10  VALUE11  VALUE12  \n",
       "count  22839.0  22839.0  22839.0  22839.0  22839.0  22839.0  22839.0  "
      ]
     },
     "execution_count": 5,
     "metadata": {},
     "output_type": "execute_result"
    }
   ],
   "source": [
    "# alternative count check\n",
    "qca_temps.describe().loc[['count']]"
   ]
  },
  {
   "cell_type": "code",
   "execution_count": 6,
   "metadata": {},
   "outputs": [
    {
     "name": "stdout",
     "output_type": "stream",
     "text": [
      "Min/max year = 1853, 2016 \n",
      "\n"
     ]
    }
   ],
   "source": [
    "pd.options.mode.chained_assignment = None  # default='warn'\n",
    "\n",
    "cntrycode = 101\n",
    "# mask2 = qca_temps['Country'].str.strip() == 'ALGERIA'\n",
    "# Here are the country codes: ftp://ftp.ncdc.noaa.gov/pub/data/ghcn/v3/country-codes\n",
    "df_on_cntrycode = qca_temps[qca_temps['CountryCode'] == cntrycode]\n",
    "\n",
    "# drop observations without all 12 months; read documentation regarding missing values\n",
    "df_on_cntrycode.replace(-9999, np.NaN, inplace=True)\n",
    "df_on_cntrycode.dropna(inplace=True)\n",
    "\n",
    "print('Min/max year = {}, {} '.format(df_on_cntrycode['YEAR'].min(), df_on_cntrycode['YEAR'].max()))\n",
    "print()\n",
    "\n",
    "# show array of years\n",
    "sorted_years = df_on_cntrycode.sort_values(\"YEAR\", ascending = True)\n",
    "# print(sorted_years.YEAR.unique())\n",
    "\n",
    "# years to compare\n",
    "loYear = df_on_cntrycode['YEAR'] == 1856\n",
    "hiYear = df_on_cntrycode['YEAR'] == 2016\n",
    "temps_min = df_on_cntrycode[loYear]\n",
    "temps_max = df_on_cntrycode[hiYear]"
   ]
  },
  {
   "cell_type": "code",
   "execution_count": 7,
   "metadata": {},
   "outputs": [
    {
     "data": {
      "image/png": "[encoded data removed]",
      "text/plain": [
       "<Figure size 432x288 with 1 Axes>"
      ]
     },
     "metadata": {},
     "output_type": "display_data"
    }
   ],
   "source": [
    "pd.options.mode.chained_assignment = None  # default='warn'\n",
    "\n",
    "cntrycode = 101\n",
    "df_means_by_cntrycode = qca_temps[qca_temps['CountryCode'] == cntrycode]\n",
    "    \n",
    "# years to compare\n",
    "loYear = df_on_cntrycode['YEAR'] == 1856\n",
    "hiYear = df_on_cntrycode['YEAR'] == 2016\n",
    "temps_min = df_on_cntrycode[loYear]\n",
    "temps_max = df_on_cntrycode[hiYear]\n",
    "\n",
    "x = np.arange(0, 12, 1)\n",
    "    \n",
    "plt.title('Means of Lo and Hi')\n",
    "plt.xlabel('month')\n",
    "plt.ylabel('hundredths degree celcius')\n",
    "plt.plot(x, temps_min.iloc[:,2:14].values.flatten(), label='Lo')\n",
    "plt.plot(x, temps_max.iloc[:,2:14].values.flatten(), label='Hi')\n",
    "plt.legend()\n",
    "plt.show()"
   ]
  }
 ],
 "metadata": {
  "kernelspec": {
   "display_name": "Python 3",
   "language": "python",
   "name": "python3"
  },
  "language_info": {
   "codemirror_mode": {
    "name": "ipython",
    "version": 3
   },
   "file_extension": ".py",
   "mimetype": "text/x-python",
   "name": "python",
   "nbconvert_exporter": "python",
   "pygments_lexer": "ipython3",
   "version": "3.6.5"
  }
 },
 "nbformat": 4,
 "nbformat_minor": 2
}
