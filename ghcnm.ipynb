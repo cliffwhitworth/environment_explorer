{
 "cells": [
  {
   "cell_type": "markdown",
   "metadata": {},
   "source": [
    "## The Global Historical Climatology Network-Monthly (GHCN-M) temperature dataset\n",
    "\n",
    "https://www.ncdc.noaa.gov/ghcnm/v3.php<br />\n",
    "For ID check ftp://ftp.ncdc.noaa.gov/pub/data/ghcn/v3/README<br />\n",
    "https://www.wmo.int/cpdb/volume_a_observing_stations/list_stations"
   ]
  },
  {
   "cell_type": "code",
   "execution_count": 1,
   "metadata": {},
   "outputs": [],
   "source": [
    "import pandas as pd\n",
    "import numpy as np\n",
    "import pickle"
   ]
  },
  {
   "cell_type": "code",
   "execution_count": 2,
   "metadata": {},
   "outputs": [],
   "source": [
    "# df = pd.read_csv('https://www2.census.gov/programs-surveys/popest/datasets/2010-2017/national/totals/nst-est2017-alldata.csv')\n",
    "# read the adjusted data, see README above, check for current version\n",
    "df = pd.read_csv('ftp://ftp.ncdc.noaa.gov/pub/data/ghcn/v3/csv/ghcnm.tavg.v3.3.0.20170710.qca.dat.csv', header=None)"
   ]
  },
  {
   "cell_type": "code",
   "execution_count": 3,
   "metadata": {},
   "outputs": [],
   "source": [
    "# See README\n",
    "df.columns = ['ID', 'YEAR', 'ELEMENT', 'VALUE1', 'DMFLAG1', 'QCFLAG1', 'DSFLAG1', 'VALUE2', 'DMFLAG2', 'QCFLAG2', 'DSFLAG2', 'VALUE3', 'DMFLAG3', 'QCFLAG3', 'DSFLAG3', 'VALUE4', 'DMFLAG4', 'QCFLAG4', 'DSFLAG4', 'VALUE5', 'DMFLAG5', 'QCFLAG5', 'DSFLAG5', 'VALUE6', 'DMFLAG6', 'QCFLAG6', 'DSFLAG6', 'VALUE7', 'DMFLAG7', 'QCFLAG7', 'DSFLAG7', 'VALUE8', 'DMFLAG8', 'QCFLAG8', 'DSFLAG8', 'VALUE9', 'DMFLAG9', 'QCFLAG9', 'DSFLAG9', 'VALUE10', 'DMFLAG10', 'QCFLAG10', 'DSFLAG10', 'VALUE11', 'DMFLAG11', 'QCFLAG11', 'DSFLAG11', 'VALUE12', 'DMFLAG12', 'QCFLAG12', 'DSFLAG12']\n",
    "# print(df.head())"
   ]
  },
  {
   "cell_type": "code",
   "execution_count": 4,
   "metadata": {},
   "outputs": [],
   "source": [
    "# just need temp values\n",
    "temps = df[['ID', 'YEAR', 'ELEMENT', 'VALUE1', 'VALUE2', 'VALUE3', 'VALUE4', 'VALUE5', 'VALUE6', 'VALUE7', 'VALUE8', 'VALUE9', 'VALUE10', 'VALUE11', 'VALUE12']]\n",
    "# print(temps.tail())\n",
    "# print(temps.shape)"
   ]
  },
  {
   "cell_type": "code",
   "execution_count": 5,
   "metadata": {},
   "outputs": [],
   "source": [
    "# Country code is first three digits of ID\n",
    "# Here are the country codes: ftp://ftp.ncdc.noaa.gov/pub/data/ghcn/v3/country-codes\n",
    "temps.insert(1, column = \"CountryCode\", value = df['ID'].astype(str).str[:3].astype(np.int64))\n",
    "# print(temps.tail())"
   ]
  },
  {
   "cell_type": "code",
   "execution_count": 6,
   "metadata": {},
   "outputs": [],
   "source": [
    "# Get country names from code\n",
    "countries = pd.read_csv('ftp://ftp.ncdc.noaa.gov/pub/data/ghcn/v3/country-codes', names=['codes'], header=None)\n",
    "countries[['CountryCode','Country']] = countries[\"codes\"].str.split(\" \", 1, expand=True)\n",
    "countries.drop('codes', axis = 'columns', inplace = True)\n",
    "countries['CountryCode'] = countries['CountryCode'].astype('int64')\n",
    "# print(countries.shape)\n",
    "\n",
    "# Pickle dataset\n",
    "with open('./countrycodes.pkl', 'wb') as countrycodes_pkl:\n",
    "    pickle.dump(countries, countrycodes_pkl, protocol=2)"
   ]
  },
  {
   "cell_type": "code",
   "execution_count": 7,
   "metadata": {},
   "outputs": [],
   "source": [
    "# merge the dataframes (optional)\n",
    "temps_merged = pd.merge(temps, countries, how = 'left', left_on = 'CountryCode', right_on = 'CountryCode')\n",
    "# print(temps.tail())"
   ]
  },
  {
   "cell_type": "code",
   "execution_count": 8,
   "metadata": {},
   "outputs": [],
   "source": [
    "# Pickle dataset\n",
    "with open('./ghcnm.tavg.v3.3.0.20170710.qca.dat.pkl', 'wb') as qca_pkl:\n",
    "    pickle.dump(temps_merged, qca_pkl, protocol=2)"
   ]
  }
 ],
 "metadata": {
  "kernelspec": {
   "display_name": "Python 3",
   "language": "python",
   "name": "python3"
  },
  "language_info": {
   "codemirror_mode": {
    "name": "ipython",
    "version": 3
   },
   "file_extension": ".py",
   "mimetype": "text/x-python",
   "name": "python",
   "nbconvert_exporter": "python",
   "pygments_lexer": "ipython3",
   "version": "3.6.5"
  }
 },
 "nbformat": 4,
 "nbformat_minor": 2
}
